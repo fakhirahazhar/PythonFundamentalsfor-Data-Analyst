{
 "cells": [
  {
   "cell_type": "markdown",
   "id": "c75c808e-2872-41c6-95b3-a67e7e76da5c",
   "metadata": {},
   "source": [
    "Break \n",
    "1. \"The 'break' statement interrupts the loop and then exits, continuing with the execution of statements after the loop.\"\n",
    "2. \"In nested loops, 'break' stops the loop according to the level or which loop it is within.\"\n",
    "3. \"However, if placed within a nested loop, for example at a second-level depth, only that loop stops, not the outer loop.\""
   ]
  },
  {
   "cell_type": "code",
   "execution_count": 1,
   "id": "c4870166-7d0b-4fe0-a727-430fae4cb4e1",
   "metadata": {},
   "outputs": [
    {
     "name": "stdout",
     "output_type": "stream",
     "text": [
      "D\n",
      "a\n",
      "t\n",
      "a\n"
     ]
    }
   ],
   "source": [
    "for i in \"Data Science\":\n",
    "    if i == \" \":\n",
    "        break\n",
    "    print(i)"
   ]
  },
  {
   "cell_type": "markdown",
   "id": "28849d1d-577a-4661-b1b3-e78a4fcca2c5",
   "metadata": {},
   "source": [
    "//TASK"
   ]
  },
  {
   "cell_type": "code",
   "execution_count": 3,
   "id": "1466dc72-6721-4eb1-a2b5-07b47aa0ccce",
   "metadata": {},
   "outputs": [
    {
     "name": "stdout",
     "output_type": "stream",
     "text": [
      "H\n",
      "a\n",
      "l\n",
      "o\n"
     ]
    }
   ],
   "source": [
    "for i in \"Halo, Selamat Pagi\":\n",
    "    if i == \",\":\n",
    "        break\n",
    "    print(i)"
   ]
  },
  {
   "cell_type": "code",
   "execution_count": null,
   "id": "3e932d6c-e062-4d2a-9ffc-07a7828428fb",
   "metadata": {},
   "outputs": [],
   "source": []
  }
 ],
 "metadata": {
  "kernelspec": {
   "display_name": "Python 3 (ipykernel)",
   "language": "python",
   "name": "python3"
  },
  "language_info": {
   "codemirror_mode": {
    "name": "ipython",
    "version": 3
   },
   "file_extension": ".py",
   "mimetype": "text/x-python",
   "name": "python",
   "nbconvert_exporter": "python",
   "pygments_lexer": "ipython3",
   "version": "3.11.7"
  }
 },
 "nbformat": 4,
 "nbformat_minor": 5
}
