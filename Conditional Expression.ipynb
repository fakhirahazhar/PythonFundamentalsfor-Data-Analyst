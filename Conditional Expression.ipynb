{
 "cells": [
  {
   "cell_type": "markdown",
   "id": "c71fb4af-bc08-4fb1-9877-9db505263d3c",
   "metadata": {},
   "source": [
    "Conditional Expression"
   ]
  },
  {
   "cell_type": "markdown",
   "id": "d88c61cc-a5cb-493b-8a85-69493130f103",
   "metadata": {},
   "source": [
    "Conditional expressions in Python, often used by data analysts, allow for concise decision-making within code. Using the ternary operator, they condense simple if-else statements into a single line, enhancing code readability and efficiency. For instance, `x = 10 if condition else 20` assigns `x` the value `10` if `condition` is `True`, otherwise `20`. This compact syntax streamlines logic in data analysis workflows."
   ]
  },
  {
   "cell_type": "markdown",
   "id": "7915af1f-0a9d-46a7-b0fe-c3068c823325",
   "metadata": {},
   "source": [
    "If"
   ]
  },
  {
   "cell_type": "code",
   "execution_count": 10,
   "id": "0811e2d3-4798-411d-91c8-7e49539de932",
   "metadata": {},
   "outputs": [],
   "source": [
    "namaku = 'Fakhirah Azhar'"
   ]
  },
  {
   "cell_type": "code",
   "execution_count": 11,
   "id": "cf03a39c-7cf4-4f3d-9b9e-4445baa2e3d6",
   "metadata": {},
   "outputs": [
    {
     "name": "stdout",
     "output_type": "stream",
     "text": [
      "Nama saya adalah Fakhirah Azhar\n"
     ]
    }
   ],
   "source": [
    "if namaku:\n",
    "    print(\"Nama saya adalah {}\".format(namaku))"
   ]
  },
  {
   "cell_type": "code",
   "execution_count": 6,
   "id": "630b57fc-66bc-490f-b52a-cb3762b12e98",
   "metadata": {},
   "outputs": [],
   "source": [
    "usiaku = \"20\""
   ]
  },
  {
   "cell_type": "code",
   "execution_count": 7,
   "id": "64b04177-d61a-4bbc-aa7f-717a9daaf025",
   "metadata": {},
   "outputs": [
    {
     "name": "stdout",
     "output_type": "stream",
     "text": [
      "Umur saya adalah 20\n"
     ]
    }
   ],
   "source": [
    "if usiaku:\n",
    "    print(\"Umur saya adalah {}\".format(usiaku))"
   ]
  },
  {
   "cell_type": "code",
   "execution_count": 12,
   "id": "ddbc6e1f-1532-40ef-ac0c-0f49b24803bc",
   "metadata": {},
   "outputs": [
    {
     "name": "stdin",
     "output_type": "stream",
     "text": [
      "Usia Anda: 20\n"
     ]
    }
   ],
   "source": [
    "usian = (input(\"Usia Anda:\"))"
   ]
  },
  {
   "cell_type": "code",
   "execution_count": 14,
   "id": "23fd1732-ed28-4d6f-90b0-9e4abc85eb37",
   "metadata": {},
   "outputs": [
    {
     "name": "stdin",
     "output_type": "stream",
     "text": [
      " 20\n"
     ]
    },
    {
     "data": {
      "text/plain": [
       "20"
      ]
     },
     "execution_count": 14,
     "metadata": {},
     "output_type": "execute_result"
    }
   ],
   "source": [
    "int(input())"
   ]
  },
  {
   "cell_type": "markdown",
   "id": "0dc92981-d647-46a0-9aa5-0e28eb60a3ac",
   "metadata": {},
   "source": [
    "Else"
   ]
  },
  {
   "cell_type": "code",
   "execution_count": 16,
   "id": "306cd8e6-27ce-47b9-b636-c558026869ea",
   "metadata": {},
   "outputs": [
    {
     "name": "stdin",
     "output_type": "stream",
     "text": [
      "Usia Anda:  15\n"
     ]
    },
    {
     "name": "stdout",
     "output_type": "stream",
     "text": [
      "Belum punya KTP\n"
     ]
    }
   ],
   "source": [
    "usia = int(input(\"Usia Anda: \"))\n",
    "\n",
    "if usia >= 17:\n",
    "    print(\"Sudah punya KTP\")\n",
    "else: \n",
    "    print(\"Belum punya KTP\")"
   ]
  },
  {
   "cell_type": "markdown",
   "id": "92b20b8a-a19c-487d-923e-bcea36debe5a",
   "metadata": {},
   "source": [
    "//TASK "
   ]
  },
  {
   "cell_type": "code",
   "execution_count": 17,
   "id": "63f117e1-768c-4d88-abfc-855b2f380b79",
   "metadata": {},
   "outputs": [],
   "source": [
    "nama = 'Baju'"
   ]
  },
  {
   "cell_type": "code",
   "execution_count": 18,
   "id": "125220e1-1b9d-4f01-b07f-634be78dde57",
   "metadata": {},
   "outputs": [
    {
     "name": "stdout",
     "output_type": "stream",
     "text": [
      "Saya sedang membeli sebuah Baju\n"
     ]
    }
   ],
   "source": [
    "if nama:\n",
    "    print(\"Saya sedang membeli sebuah {}\".format(nama))"
   ]
  },
  {
   "cell_type": "code",
   "execution_count": 21,
   "id": "0b2b99b3-aab5-42c5-9050-f6412b998154",
   "metadata": {},
   "outputs": [
    {
     "name": "stdin",
     "output_type": "stream",
     "text": [
      "Jumlah yang dibeli: 20\n"
     ]
    }
   ],
   "source": [
    "Jumlah = (input(\"Jumlah yang dibeli:\"))"
   ]
  },
  {
   "cell_type": "code",
   "execution_count": 22,
   "id": "d72bbe56-41f4-464f-b134-65ea389cd4bf",
   "metadata": {},
   "outputs": [
    {
     "name": "stdin",
     "output_type": "stream",
     "text": [
      " 20\n"
     ]
    },
    {
     "data": {
      "text/plain": [
       "20"
      ]
     },
     "execution_count": 22,
     "metadata": {},
     "output_type": "execute_result"
    }
   ],
   "source": [
    "int(input())"
   ]
  },
  {
   "cell_type": "code",
   "execution_count": 25,
   "id": "70cef1bd-2363-49d5-9b20-928928813e90",
   "metadata": {},
   "outputs": [
    {
     "name": "stdin",
     "output_type": "stream",
     "text": [
      "Masukkan Harga:  10000\n"
     ]
    },
    {
     "name": "stdout",
     "output_type": "stream",
     "text": [
      "Murah\n"
     ]
    }
   ],
   "source": [
    "Harga = int(input(\"Masukkan Harga: \"))\n",
    "\n",
    "if usia <= 50000:\n",
    "    print(\"Murah\")\n",
    "else: \n",
    "    print(\"Mahal\")"
   ]
  },
  {
   "cell_type": "markdown",
   "id": "ef524df9-63ed-4ec6-9b58-6c9f3d3459a7",
   "metadata": {},
   "source": [
    "Elif\n",
    "1. \"Elif is short for else if.\"\r\n",
    "2. \"Elif serves as an alternative to nested if statements.\"\r\n",
    "3. \"An if statement may be followed by one or more elif statements (optional & unlimited).\""
   ]
  },
  {
   "cell_type": "code",
   "execution_count": 28,
   "id": "3a87ab2f-9ffe-4554-a5dc-dc8894f714eb",
   "metadata": {},
   "outputs": [
    {
     "name": "stdin",
     "output_type": "stream",
     "text": [
      "Berapa nilai Anda:  80\n"
     ]
    },
    {
     "name": "stdout",
     "output_type": "stream",
     "text": [
      "Anda mendapat nilai A\n"
     ]
    }
   ],
   "source": [
    "nilai = int(input(\"Berapa nilai Anda: \"))\n",
    "\n",
    "if nilai >= 80:\n",
    "    print(\"Anda mendapat nilai A\")\n",
    "elif nilai >=60:\n",
    "    print(\"Anda mendapat nilai B\")\n",
    "else:\n",
    "    print(\"Anda nilai c\")"
   ]
  },
  {
   "cell_type": "markdown",
   "id": "e9889a01-2c8f-42f6-a329-c46a816740bf",
   "metadata": {},
   "source": [
    "//TASK"
   ]
  },
  {
   "cell_type": "code",
   "execution_count": 29,
   "id": "84e05435-895e-448a-8ef6-86e69b429dce",
   "metadata": {},
   "outputs": [
    {
     "name": "stdin",
     "output_type": "stream",
     "text": [
      "Masukkan nama Anda:  rara\n",
      "Masukkan umur Anda:  13\n"
     ]
    },
    {
     "name": "stdout",
     "output_type": "stream",
     "text": [
      "Anda masih kecil untuk menggunakan layanan ini.\n"
     ]
    }
   ],
   "source": [
    "nama = input(\"Masukkan nama Anda: \")\n",
    "umur = int(input(\"Masukkan umur Anda: \"))\n",
    "\n",
    "if umur < 18:\n",
    "    print(\"Anda masih kecil untuk menggunakan layanan ini.\")\n",
    "elif umur >= 18 and umur < 60:\n",
    "    print(\"Selamat, Anda diterima untuk menggunakan layanan kami.\")\n",
    "else:\n",
    "    print(\"Terima kasih, Anda telah menggunakan layanan kami.\")"
   ]
  }
 ],
 "metadata": {
  "kernelspec": {
   "display_name": "Python 3 (ipykernel)",
   "language": "python",
   "name": "python3"
  },
  "language_info": {
   "codemirror_mode": {
    "name": "ipython",
    "version": 3
   },
   "file_extension": ".py",
   "mimetype": "text/x-python",
   "name": "python",
   "nbconvert_exporter": "python",
   "pygments_lexer": "ipython3",
   "version": "3.11.7"
  }
 },
 "nbformat": 4,
 "nbformat_minor": 5
}
