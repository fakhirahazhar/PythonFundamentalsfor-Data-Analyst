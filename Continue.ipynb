{
 "cells": [
  {
   "cell_type": "markdown",
   "id": "3ddb4380-bb3b-4b2a-a718-ba185b574ff1",
   "metadata": {},
   "source": [
    "Continue\n",
    "1. \"The 'continue' statement halts the current iteration.\"\n",
    "2. \"Then it proceeds to the next iteration.\"\n",
    "3. \"It skips over any statements between 'continue' and the end of the loop block.\""
   ]
  },
  {
   "cell_type": "code",
   "execution_count": 1,
   "id": "c621bb9d-1b91-49a8-be33-8857439179a8",
   "metadata": {},
   "outputs": [
    {
     "name": "stdout",
     "output_type": "stream",
     "text": [
      "D\n",
      "t\n",
      " \n",
      "S\n",
      "c\n",
      "i\n",
      "e\n",
      "n\n",
      "c\n",
      "e\n"
     ]
    }
   ],
   "source": [
    "for i in \"Data Science\":\n",
    "    if i == \"a\":\n",
    "        continue\n",
    "    print(i)"
   ]
  },
  {
   "cell_type": "markdown",
   "id": "d86ea7f5-858c-4658-bfa0-b2158ae4b0ab",
   "metadata": {},
   "source": [
    "//Contoh"
   ]
  },
  {
   "cell_type": "code",
   "execution_count": 2,
   "id": "03299a9c-1142-4489-b9e9-78b3032ac82c",
   "metadata": {},
   "outputs": [
    {
     "name": "stdout",
     "output_type": "stream",
     "text": [
      "1\n",
      "3\n",
      "5\n",
      "7\n",
      "9\n"
     ]
    }
   ],
   "source": [
    "# Program ini akan mencetak angka ganjil antara 1 dan 10, tetapi melewatkan angka genap\n",
    "\n",
    "for i in range(1, 11):  # Loop dari 1 hingga 10\n",
    "    if i % 2 == 0:  # Cek apakah angka genap\n",
    "        continue  # Lewatkan angka genap\n",
    "    print(i)  # Cetak angka ganjil\n"
   ]
  }
 ],
 "metadata": {
  "kernelspec": {
   "display_name": "Python 3 (ipykernel)",
   "language": "python",
   "name": "python3"
  },
  "language_info": {
   "codemirror_mode": {
    "name": "ipython",
    "version": 3
   },
   "file_extension": ".py",
   "mimetype": "text/x-python",
   "name": "python",
   "nbconvert_exporter": "python",
   "pygments_lexer": "ipython3",
   "version": "3.11.7"
  }
 },
 "nbformat": 4,
 "nbformat_minor": 5
}
