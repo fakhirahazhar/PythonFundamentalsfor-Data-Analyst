{
 "cells": [
  {
   "cell_type": "markdown",
   "id": "e1062e80-dd01-44d4-ae69-2fd37f094e44",
   "metadata": {},
   "source": [
    "Dictionary"
   ]
  },
  {
   "cell_type": "markdown",
   "id": "842f5e3c-9fa4-49d0-9643-d164ad367686",
   "metadata": {},
   "source": [
    "A Python dictionary is a data structure that stores key-value pairs. Keys must be unique and immutable, while values can be of any data type. With its fast indexing capabilities, dictionaries are invaluable for organizing and accessing data, making them a crucial tool in data analysis."
   ]
  },
  {
   "cell_type": "code",
   "execution_count": 13,
   "id": "a3a2fc16-b984-4371-99c9-f4ea328037a9",
   "metadata": {},
   "outputs": [
    {
     "data": {
      "text/plain": [
       "dict"
      ]
     },
     "execution_count": 13,
     "metadata": {},
     "output_type": "execute_result"
    }
   ],
   "source": [
    "a = {\"nama\" : \"Fakhirah Azhar\", \"Usia\" : 20}\n",
    "type(a)"
   ]
  },
  {
   "cell_type": "code",
   "execution_count": 14,
   "id": "64ec62b2-44da-41b5-a5f1-9f26737ec885",
   "metadata": {},
   "outputs": [
    {
     "data": {
      "text/plain": [
       "'Fakhirah Azhar'"
      ]
     },
     "execution_count": 14,
     "metadata": {},
     "output_type": "execute_result"
    }
   ],
   "source": [
    "a[\"nama\"]"
   ]
  },
  {
   "cell_type": "code",
   "execution_count": 15,
   "id": "9ee6df53-65e2-47ed-88be-4ac44be4e6ec",
   "metadata": {},
   "outputs": [
    {
     "data": {
      "text/plain": [
       "20"
      ]
     },
     "execution_count": 15,
     "metadata": {},
     "output_type": "execute_result"
    }
   ],
   "source": [
    "a[\"Usia\"]"
   ]
  },
  {
   "cell_type": "markdown",
   "id": "60fe7ef6-9331-4783-acb2-59c275a81f7d",
   "metadata": {},
   "source": [
    "Nested Dictionary"
   ]
  },
  {
   "cell_type": "markdown",
   "id": "a868dda8-7a45-439a-8e14-468f6c0b9daa",
   "metadata": {},
   "source": [
    "Nested dictionaries in Python for data analysis are dictionaries containing other dictionaries. This nested structure helps organize data hierarchically, facilitating tasks like storing metadata or managing complex datasets efficiently."
   ]
  },
  {
   "cell_type": "code",
   "execution_count": 16,
   "id": "bf220b91-9c92-49a7-8b2c-843b67d48646",
   "metadata": {},
   "outputs": [],
   "source": [
    "b = {\"nama\" : {\"nama_1\" : \"Rara\",\n",
    "                \"nama_2\" : \"Riri\"}\n",
    "    }"
   ]
  },
  {
   "cell_type": "code",
   "execution_count": 17,
   "id": "d570a701-475f-4fee-b78e-e097d4eb635e",
   "metadata": {},
   "outputs": [
    {
     "data": {
      "text/plain": [
       "'Rara'"
      ]
     },
     "execution_count": 17,
     "metadata": {},
     "output_type": "execute_result"
    }
   ],
   "source": [
    "b['nama']['nama_1']"
   ]
  },
  {
   "cell_type": "code",
   "execution_count": 18,
   "id": "e0266884-de41-435a-819f-61125d303e28",
   "metadata": {},
   "outputs": [
    {
     "data": {
      "text/plain": [
       "'Riri'"
      ]
     },
     "execution_count": 18,
     "metadata": {},
     "output_type": "execute_result"
    }
   ],
   "source": [
    "b['nama']['nama_2']"
   ]
  },
  {
   "cell_type": "markdown",
   "id": "e8d6853f-e350-40a3-a063-444bbb55d043",
   "metadata": {},
   "source": [
    "//Task"
   ]
  },
  {
   "cell_type": "code",
   "execution_count": 20,
   "id": "8bb35a33-5464-4172-81fd-efdc7dcc7cf9",
   "metadata": {},
   "outputs": [
    {
     "data": {
      "text/plain": [
       "dict"
      ]
     },
     "execution_count": 20,
     "metadata": {},
     "output_type": "execute_result"
    }
   ],
   "source": [
    "a = {\"Ketua_Kelompok_2\" : \"Dimas\", \"jumlah\" : 1}\n",
    "type(a)"
   ]
  },
  {
   "cell_type": "code",
   "execution_count": 21,
   "id": "dbbcbf16-a1ce-4d68-bcf4-f36e54a9f89a",
   "metadata": {},
   "outputs": [
    {
     "data": {
      "text/plain": [
       "'Dimas'"
      ]
     },
     "execution_count": 21,
     "metadata": {},
     "output_type": "execute_result"
    }
   ],
   "source": [
    "a[\"Ketua_Kelompok_2\"]"
   ]
  },
  {
   "cell_type": "code",
   "execution_count": 22,
   "id": "5d46008f-0b37-480d-ac72-69dfa2907bf6",
   "metadata": {},
   "outputs": [
    {
     "data": {
      "text/plain": [
       "1"
      ]
     },
     "execution_count": 22,
     "metadata": {},
     "output_type": "execute_result"
    }
   ],
   "source": [
    "a[\"jumlah\"]"
   ]
  },
  {
   "cell_type": "code",
   "execution_count": 23,
   "id": "37f82579-a72d-41f6-9957-6f073234a6ca",
   "metadata": {},
   "outputs": [],
   "source": [
    "b = {\"nama\" : {\"nama_1\" : \"Dimas\",\n",
    "                \"nama_2\" : \"Bila\", \n",
    "                \"nama_3\" : \"Zalfa\",\n",
    "                \"nama_4\" : \"Rara\",\n",
    "                \"nama_5\" : \"Deva\"}\n",
    "    }"
   ]
  },
  {
   "cell_type": "code",
   "execution_count": 24,
   "id": "41e3f4bf-e378-4c03-ba6a-8f751ebfee3b",
   "metadata": {},
   "outputs": [
    {
     "data": {
      "text/plain": [
       "'Dimas'"
      ]
     },
     "execution_count": 24,
     "metadata": {},
     "output_type": "execute_result"
    }
   ],
   "source": [
    "b['nama']['nama_1']"
   ]
  },
  {
   "cell_type": "code",
   "execution_count": 25,
   "id": "b5c77eab-d899-4503-8d73-7dd1bab8c93c",
   "metadata": {},
   "outputs": [
    {
     "data": {
      "text/plain": [
       "'Deva'"
      ]
     },
     "execution_count": 25,
     "metadata": {},
     "output_type": "execute_result"
    }
   ],
   "source": [
    "b['nama']['nama_5']"
   ]
  }
 ],
 "metadata": {
  "kernelspec": {
   "display_name": "Python 3 (ipykernel)",
   "language": "python",
   "name": "python3"
  },
  "language_info": {
   "codemirror_mode": {
    "name": "ipython",
    "version": 3
   },
   "file_extension": ".py",
   "mimetype": "text/x-python",
   "name": "python",
   "nbconvert_exporter": "python",
   "pygments_lexer": "ipython3",
   "version": "3.11.7"
  }
 },
 "nbformat": 4,
 "nbformat_minor": 5
}
