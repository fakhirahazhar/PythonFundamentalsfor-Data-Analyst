{
 "cells": [
  {
   "cell_type": "markdown",
   "id": "07c7252b-42cb-4fd1-8f44-9bc75a6f12e7",
   "metadata": {},
   "source": [
    "For\n",
    "1. \"For is a function capable of iterating over any type of variable containing collections or sequences.\"\r\n",
    "2. \"The variables can be lists, strings, or ranges.\"\r\n",
    "3. \"If a list or sequence contains expressions, they are evaluated first.\"\r\n",
    "4. \"Subsequently, the first item in the sequence/list will be assigned to the iterating variable.\"\r\n",
    "5. \"Following this, the statement block will be executed, moving on to the next item, and iterating until the entire sequence is exhausted.\""
   ]
  },
  {
   "cell_type": "code",
   "execution_count": 1,
   "id": "9ce45e29-51c9-47ae-b084-62d5bdf5457a",
   "metadata": {},
   "outputs": [
    {
     "name": "stdout",
     "output_type": "stream",
     "text": [
      "huruf k\n",
      "huruf e\n",
      "huruf l\n",
      "huruf o\n",
      "huruf m\n",
      "huruf p\n",
      "huruf o\n",
      "huruf k\n"
     ]
    }
   ],
   "source": [
    "for i in 'kelompok':\n",
    "    print(\"huruf {}\".format(i))"
   ]
  },
  {
   "cell_type": "code",
   "execution_count": 2,
   "id": "b4e826a7-cdd1-4465-95e5-3b55a26535b4",
   "metadata": {},
   "outputs": [
    {
     "name": "stdout",
     "output_type": "stream",
     "text": [
      "Anggota rara\n",
      "Anggota zalfa\n",
      "Anggota deva\n",
      "Anggota bila\n",
      "Anggota dimas\n"
     ]
    }
   ],
   "source": [
    "Anggota = ['rara', 'zalfa', 'deva', 'bila','dimas']\n",
    "\n",
    "for i in Anggota: \n",
    "    print(\"Anggota {}\".format(i))"
   ]
  },
  {
   "cell_type": "code",
   "execution_count": 3,
   "id": "1822c3f9-51a4-4447-abec-afc851ed7e80",
   "metadata": {},
   "outputs": [
    {
     "name": "stdout",
     "output_type": "stream",
     "text": [
      "0\n",
      "1\n",
      "2\n",
      "3\n",
      "4\n",
      "5\n",
      "6\n",
      "7\n",
      "8\n",
      "9\n"
     ]
    }
   ],
   "source": [
    "for i in range(10):\n",
    "    print(i)"
   ]
  },
  {
   "cell_type": "code",
   "execution_count": 4,
   "id": "2ce9e851-8aa2-4942-9387-e46f749ff3f5",
   "metadata": {},
   "outputs": [
    {
     "name": "stdout",
     "output_type": "stream",
     "text": [
      "20\n",
      "21\n",
      "22\n",
      "23\n",
      "24\n"
     ]
    }
   ],
   "source": [
    "for i in range(20,25):\n",
    "    print(i)"
   ]
  },
  {
   "cell_type": "code",
   "execution_count": 9,
   "id": "e5ebcf8c-e114-4459-befe-e6c27d20c3f9",
   "metadata": {},
   "outputs": [
    {
     "name": "stdout",
     "output_type": "stream",
     "text": [
      "* * * \n",
      "* * \n",
      "* \n"
     ]
    }
   ],
   "source": [
    "for row in range(3):\n",
    "    for col in range(3):\n",
    "        if row == 0 and col <= 2:\n",
    "            print(\"*\", end = \" \")\n",
    "        elif row == 1 and col<= 1:\n",
    "            print(\"*\", end = \" \")\n",
    "        elif row == 2 and col== 0:\n",
    "            print(\"*\", end = \" \")\n",
    "    print()"
   ]
  },
  {
   "cell_type": "markdown",
   "id": "5dbff538-11fe-4718-b5c6-72f846fb893a",
   "metadata": {},
   "source": [
    "//TASK "
   ]
  },
  {
   "cell_type": "code",
   "execution_count": 12,
   "id": "7d4c9dc7-9f27-4c0a-ab89-1107aae18532",
   "metadata": {},
   "outputs": [
    {
     "name": "stdout",
     "output_type": "stream",
     "text": [
      "* * * * * \n",
      "* * * * \n",
      "* * * \n",
      "* * \n",
      "* \n"
     ]
    }
   ],
   "source": [
    "for row in range(5):\n",
    "    for col in range(5):\n",
    "        if row == 0 and col <= 4:\n",
    "            print(\"*\", end = \" \")\n",
    "        elif row == 1 and col<= 3:\n",
    "            print(\"*\", end = \" \")\n",
    "        elif row == 2 and col<= 2:\n",
    "            print(\"*\", end = \" \")\n",
    "        elif row == 3 and col<= 1:\n",
    "            print(\"*\", end = \" \")\n",
    "        elif row == 4 and col<= 0:\n",
    "            print(\"*\", end = \" \")\n",
    "        elif row == 5 and col== 0:\n",
    "            print(\"*\", end = \" \")\n",
    "    print()"
   ]
  },
  {
   "cell_type": "code",
   "execution_count": 13,
   "id": "06fe4cc5-2487-49d1-a5b4-cb93921980c6",
   "metadata": {},
   "outputs": [
    {
     "name": "stdout",
     "output_type": "stream",
     "text": [
      "1 adalah bukan genap\n",
      "2 adalah genap\n",
      "3 adalah bukan genap\n",
      "4 adalah genap\n",
      "5 adalah bukan genap\n",
      "6 adalah genap\n"
     ]
    }
   ],
   "source": [
    "for i in range(1, 7):\n",
    "    if i % 2 ==0:\n",
    "        print(\"{} adalah genap\".format(i))\n",
    "    else:\n",
    "        print(\"{} adalah bukan genap\".format(i))"
   ]
  },
  {
   "cell_type": "markdown",
   "id": "acedc829-031a-4613-8f6f-b622e867fcfa",
   "metadata": {},
   "source": [
    "//TASK"
   ]
  },
  {
   "cell_type": "code",
   "execution_count": 14,
   "id": "167fa930-4ed6-4c59-81ac-6d0019f2af2e",
   "metadata": {},
   "outputs": [
    {
     "name": "stdout",
     "output_type": "stream",
     "text": [
      "1 Bukan Kelipatan Ketiga\n",
      "2 Bukan Kelipatan Ketiga\n",
      "3 Kelipatan Ketiga\n",
      "4 Bukan Kelipatan Ketiga\n",
      "5 Bukan Kelipatan Ketiga\n",
      "6 Kelipatan Ketiga\n",
      "7 Bukan Kelipatan Ketiga\n",
      "8 Bukan Kelipatan Ketiga\n",
      "9 Kelipatan Ketiga\n"
     ]
    }
   ],
   "source": [
    "for i in range(1, 10):\n",
    "    if i % 3 ==0:\n",
    "        print(\"{} Kelipatan Ketiga\".format(i))\n",
    "    else:\n",
    "        print(\"{} Bukan Kelipatan Ketiga\".format(i))"
   ]
  },
  {
   "cell_type": "code",
   "execution_count": null,
   "id": "f819b491-eae3-44db-9f86-badf50bd5ba6",
   "metadata": {},
   "outputs": [],
   "source": []
  }
 ],
 "metadata": {
  "kernelspec": {
   "display_name": "Python 3 (ipykernel)",
   "language": "python",
   "name": "python3"
  },
  "language_info": {
   "codemirror_mode": {
    "name": "ipython",
    "version": 3
   },
   "file_extension": ".py",
   "mimetype": "text/x-python",
   "name": "python",
   "nbconvert_exporter": "python",
   "pygments_lexer": "ipython3",
   "version": "3.11.7"
  }
 },
 "nbformat": 4,
 "nbformat_minor": 5
}
