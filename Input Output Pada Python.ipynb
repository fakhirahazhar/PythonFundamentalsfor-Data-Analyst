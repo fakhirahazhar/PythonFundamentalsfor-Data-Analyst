{
 "cells": [
  {
   "cell_type": "markdown",
   "id": "6d4d57b4-5194-472f-be10-78e87e943376",
   "metadata": {},
   "source": [
    "Input"
   ]
  },
  {
   "cell_type": "markdown",
   "id": "a0ce585b-bedb-4a36-b8b5-878c3800effb",
   "metadata": {},
   "source": [
    "Input in Python for data analysis is the initial step of bringing data into a Python program from sources like files or databases for manipulation and analysis."
   ]
  },
  {
   "cell_type": "code",
   "execution_count": null,
   "id": "1b5c5422-b373-4fd7-ac67-802d2d0bbd52",
   "metadata": {},
   "outputs": [],
   "source": [
    "a = 500\n",
    "type(a)"
   ]
  },
  {
   "cell_type": "code",
   "execution_count": null,
   "id": "eb999461-30c8-494a-b109-2960516be239",
   "metadata": {},
   "outputs": [],
   "source": [
    "print(\"Nilai variabel a adalah\", a)"
   ]
  },
  {
   "cell_type": "code",
   "execution_count": null,
   "id": "b11c8a17-d6ca-4e12-a9a1-2d104730804d",
   "metadata": {},
   "outputs": [],
   "source": [
    "nama = 'Kelompok2'"
   ]
  },
  {
   "cell_type": "code",
   "execution_count": null,
   "id": "ffdba62c-433c-4b8b-aae2-663c5efd4b09",
   "metadata": {},
   "outputs": [],
   "source": [
    "print(\"Saya berada di\",nama)"
   ]
  },
  {
   "cell_type": "markdown",
   "id": "30a7a46c-3d7c-41ae-8b76-7a1085052cd0",
   "metadata": {},
   "source": [
    "To display text (string) in Python, you can use string formatting mechanisms."
   ]
  },
  {
   "cell_type": "code",
   "execution_count": null,
   "id": "b337699e-43b5-417f-97eb-095ee27f59d7",
   "metadata": {},
   "outputs": [],
   "source": [
    "print('Kelompok saya {}'.format('Kelompok2'))"
   ]
  },
  {
   "cell_type": "code",
   "execution_count": null,
   "id": "4132e9e2-3903-4986-9293-b6a9c0389541",
   "metadata": {},
   "outputs": [],
   "source": [
    "print('Kelas saya adalah {}'.format('DA B'))"
   ]
  },
  {
   "cell_type": "markdown",
   "id": "1eefca70-c103-4b7a-bf20-a22f9d244507",
   "metadata": {},
   "source": [
    "Here are some common argument specifiers:\r\n",
    "1. %s --> String\r\n",
    "2. %d --> Integer\r\n",
    "3. %f --> Decimal Number"
   ]
  },
  {
   "cell_type": "code",
   "execution_count": 9,
   "id": "2e9d63e9-956d-4503-93ae-9fc503d5a868",
   "metadata": {},
   "outputs": [],
   "source": [
    "nama = \"Fakhirah Aazhar\""
   ]
  },
  {
   "cell_type": "code",
   "execution_count": 10,
   "id": "615165bb-c959-4ada-a77a-b4e5e1779b8f",
   "metadata": {},
   "outputs": [
    {
     "data": {
      "text/plain": [
       "str"
      ]
     },
     "execution_count": 10,
     "metadata": {},
     "output_type": "execute_result"
    }
   ],
   "source": [
    "type(nama)"
   ]
  },
  {
   "cell_type": "code",
   "execution_count": 11,
   "id": "257898a1-3760-43ae-837a-ad47a6a1e6b0",
   "metadata": {},
   "outputs": [],
   "source": [
    "Umur = 20"
   ]
  },
  {
   "cell_type": "code",
   "execution_count": 12,
   "id": "89ae7a9d-01cf-4d78-8ee9-778276dbb8be",
   "metadata": {},
   "outputs": [
    {
     "data": {
      "text/plain": [
       "int"
      ]
     },
     "execution_count": 12,
     "metadata": {},
     "output_type": "execute_result"
    }
   ],
   "source": [
    "type(Umur)"
   ]
  },
  {
   "cell_type": "code",
   "execution_count": null,
   "id": "86db8874-88e6-42e8-bb75-4277609dc611",
   "metadata": {},
   "outputs": [],
   "source": [
    "input()"
   ]
  },
  {
   "cell_type": "code",
   "execution_count": null,
   "id": "0df9b1cf-1759-4a2f-a442-b14822a417d8",
   "metadata": {},
   "outputs": [],
   "source": [
    "nama = input (\"Nama Saya\")"
   ]
  },
  {
   "cell_type": "code",
   "execution_count": null,
   "id": "541abe92-1911-4019-94d0-46dd784a6d19",
   "metadata": {},
   "outputs": [],
   "source": [
    "print(nama)"
   ]
  },
  {
   "cell_type": "markdown",
   "id": "9d5cd9f7-aaca-464b-8241-de3efabdffc6",
   "metadata": {},
   "source": [
    "By default, anything entered as user input is treated as a string."
   ]
  },
  {
   "cell_type": "code",
   "execution_count": null,
   "id": "f29cc165-de08-488d-a7bf-7b6596439bf7",
   "metadata": {},
   "outputs": [],
   "source": [
    "umur = input(\"Umur Saya:\")"
   ]
  },
  {
   "cell_type": "code",
   "execution_count": null,
   "id": "eea6c188-e072-4dee-9b95-16089b424e2d",
   "metadata": {},
   "outputs": [],
   "source": [
    "print(umur)"
   ]
  },
  {
   "cell_type": "code",
   "execution_count": null,
   "id": "49191d86-6d0b-46c6-ae37-211754e01614",
   "metadata": {},
   "outputs": [],
   "source": [
    "type(umur)"
   ]
  },
  {
   "cell_type": "code",
   "execution_count": null,
   "id": "26f6a84a-b038-4d8c-8e97-42a45a01a845",
   "metadata": {},
   "outputs": [],
   "source": [
    "angka = int(input())"
   ]
  },
  {
   "cell_type": "code",
   "execution_count": null,
   "id": "fc813acc-641c-4bb9-b4e2-25f155b8d2b8",
   "metadata": {},
   "outputs": [],
   "source": [
    "type(angka)"
   ]
  }
 ],
 "metadata": {
  "kernelspec": {
   "display_name": "Python 3 (ipykernel)",
   "language": "python",
   "name": "python3"
  },
  "language_info": {
   "codemirror_mode": {
    "name": "ipython",
    "version": 3
   },
   "file_extension": ".py",
   "mimetype": "text/x-python",
   "name": "python",
   "nbconvert_exporter": "python",
   "pygments_lexer": "ipython3",
   "version": "3.11.7"
  }
 },
 "nbformat": 4,
 "nbformat_minor": 5
}
