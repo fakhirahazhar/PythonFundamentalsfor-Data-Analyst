{
 "cells": [
  {
   "cell_type": "markdown",
   "id": "bcedbf3a-8ee8-415b-9566-9e3546c50f80",
   "metadata": {},
   "source": [
    "List"
   ]
  },
  {
   "cell_type": "markdown",
   "id": "ee669f2a-af21-4740-9e23-b8e00ebbc395",
   "metadata": {},
   "source": [
    "In Python, a list is a fundamental data structure used to store a sequence of elements. It allows for flexible storage and manipulation of data, making it essential for various data analysis tasks."
   ]
  },
  {
   "cell_type": "code",
   "execution_count": 13,
   "id": "5745ccee-5085-4d81-a791-9f91eaefd708",
   "metadata": {},
   "outputs": [],
   "source": [
    "a = [5,6.7, \"Delapan\"]"
   ]
  },
  {
   "cell_type": "code",
   "execution_count": 7,
   "id": "dd1026e1-ca34-4f2f-b728-65ea2867e4a3",
   "metadata": {},
   "outputs": [
    {
     "data": {
      "text/plain": [
       "list"
      ]
     },
     "execution_count": 7,
     "metadata": {},
     "output_type": "execute_result"
    }
   ],
   "source": [
    "type(a)"
   ]
  },
  {
   "cell_type": "code",
   "execution_count": null,
   "id": "52f565a5-9e2f-4c37-b5d6-645d9be11d3d",
   "metadata": {},
   "outputs": [],
   "source": [
    "Each data in a list can be accessed with an index starting from 0."
   ]
  },
  {
   "cell_type": "code",
   "execution_count": 8,
   "id": "37791d29-6f8f-4080-a872-0d794b3efdff",
   "metadata": {},
   "outputs": [
    {
     "data": {
      "text/plain": [
       "5"
      ]
     },
     "execution_count": 8,
     "metadata": {},
     "output_type": "execute_result"
    }
   ],
   "source": [
    "a[0]"
   ]
  },
  {
   "cell_type": "code",
   "execution_count": 14,
   "id": "983b1b82-de98-458a-8033-db6d1efa1d10",
   "metadata": {},
   "outputs": [
    {
     "data": {
      "text/plain": [
       "6.7"
      ]
     },
     "execution_count": 14,
     "metadata": {},
     "output_type": "execute_result"
    }
   ],
   "source": [
    "a[1]"
   ]
  },
  {
   "cell_type": "code",
   "execution_count": 10,
   "id": "8eff4324-3e13-4e9c-9c4a-68e1c67865c9",
   "metadata": {},
   "outputs": [
    {
     "data": {
      "text/plain": [
       "7"
      ]
     },
     "execution_count": 10,
     "metadata": {},
     "output_type": "execute_result"
    }
   ],
   "source": [
    "a[2]"
   ]
  },
  {
   "cell_type": "code",
   "execution_count": 11,
   "id": "d43adb6d-0081-465a-bd11-7445baa208d9",
   "metadata": {},
   "outputs": [
    {
     "data": {
      "text/plain": [
       "int"
      ]
     },
     "execution_count": 11,
     "metadata": {},
     "output_type": "execute_result"
    }
   ],
   "source": [
    "type(a[0])"
   ]
  },
  {
   "cell_type": "code",
   "execution_count": 15,
   "id": "43eb758a-fb9d-4a3f-bda7-65a75161db9b",
   "metadata": {},
   "outputs": [
    {
     "data": {
      "text/plain": [
       "float"
      ]
     },
     "execution_count": 15,
     "metadata": {},
     "output_type": "execute_result"
    }
   ],
   "source": [
    "type(a[1])"
   ]
  },
  {
   "cell_type": "code",
   "execution_count": 12,
   "id": "910aeec9-aae5-45c7-bd42-b8437ec52443",
   "metadata": {},
   "outputs": [
    {
     "data": {
      "text/plain": [
       "str"
      ]
     },
     "execution_count": 12,
     "metadata": {},
     "output_type": "execute_result"
    }
   ],
   "source": [
    "type(a[3])"
   ]
  }
 ],
 "metadata": {
  "kernelspec": {
   "display_name": "Python 3 (ipykernel)",
   "language": "python",
   "name": "python3"
  },
  "language_info": {
   "codemirror_mode": {
    "name": "ipython",
    "version": 3
   },
   "file_extension": ".py",
   "mimetype": "text/x-python",
   "name": "python",
   "nbconvert_exporter": "python",
   "pygments_lexer": "ipython3",
   "version": "3.11.7"
  }
 },
 "nbformat": 4,
 "nbformat_minor": 5
}
