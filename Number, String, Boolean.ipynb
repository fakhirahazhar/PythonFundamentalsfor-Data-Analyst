{
 "cells": [
  {
   "cell_type": "markdown",
   "id": "44c91327-3f88-4bbe-9109-dc75f0294df7",
   "metadata": {},
   "source": [
    "\r\n",
    "The three built-in data types in Python are:\r\n",
    "\r\n",
    "1. Integer (int): Used to store whole numbers, such as 5 or -10.\r\n",
    "2. Floating-point (float): Used to store decimal numbers, such as 3.14 or -0.002.\r\n",
    "3. String (str): Used to represent text or a sequence of characters, such as \"Hello, World!\" or 'Python Programming'."
   ]
  },
  {
   "cell_type": "code",
   "execution_count": 2,
   "id": "40932681-1431-4110-aeda-7b4092b4bd39",
   "metadata": {},
   "outputs": [
    {
     "name": "stdout",
     "output_type": "stream",
     "text": [
      "Hello, world!\n"
     ]
    }
   ],
   "source": [
    "print (\"Hello, world!\")"
   ]
  },
  {
   "cell_type": "code",
   "execution_count": 7,
   "id": "505309fa-634e-4caf-b875-98eeec005a09",
   "metadata": {},
   "outputs": [
    {
     "data": {
      "text/plain": [
       "int"
      ]
     },
     "execution_count": 7,
     "metadata": {},
     "output_type": "execute_result"
    }
   ],
   "source": [
    "a = 108\n",
    "type (a)"
   ]
  },
  {
   "cell_type": "code",
   "execution_count": 8,
   "id": "e6526d55-4c9f-40ce-bbe9-8cdf7ad992f8",
   "metadata": {},
   "outputs": [
    {
     "data": {
      "text/plain": [
       "float"
      ]
     },
     "execution_count": 8,
     "metadata": {},
     "output_type": "execute_result"
    }
   ],
   "source": [
    "b = 56.9\n",
    "type (b)"
   ]
  },
  {
   "cell_type": "markdown",
   "id": "6973cb2f-f870-4458-8f3e-9f269734ee37",
   "metadata": {},
   "source": [
    "In Python, complex numbers are built-in data types representing numbers with real and imaginary parts denoted by \"j\". They're used in advanced math and engineering for calculations involving both real and imaginary components. Python supports basic arithmetic operations on complex numbers and offers advanced operations via the `cmath` module."
   ]
  },
  {
   "cell_type": "code",
   "execution_count": 6,
   "id": "49aa56a0-2432-44b2-afd6-5ece21ab80b5",
   "metadata": {},
   "outputs": [
    {
     "data": {
      "text/plain": [
       "complex"
      ]
     },
     "execution_count": 6,
     "metadata": {},
     "output_type": "execute_result"
    }
   ],
   "source": [
    "c = 5 + 7j\n",
    "type (c)"
   ]
  },
  {
   "cell_type": "markdown",
   "id": "c8e602e8-8577-46f4-bb77-388b7a10e0f6",
   "metadata": {},
   "source": [
    "String"
   ]
  },
  {
   "cell_type": "markdown",
   "id": "e92ae17c-3634-462a-a0ea-f6f47fd47571",
   "metadata": {},
   "source": [
    "In Python, strings are sequences of characters enclosed in single (' ') or double (\" \") quotes. \n",
    "They're used extensively in data analysis for storing and manipulating text data, such as column names, \n",
    "text-based data, or textual analysis. Python provides numerous methods for string manipulation, \n",
    "including slicing, concatenation, formatting, and searching. Understanding string operations is crucial for \n",
    "tasks like data cleaning, parsing, and text mining in data analysis workflows."
   ]
  },
  {
   "cell_type": "code",
   "execution_count": 9,
   "id": "6bdf85f3-c392-44da-a692-3281efdff570",
   "metadata": {},
   "outputs": [
    {
     "name": "stdout",
     "output_type": "stream",
     "text": [
      "hai, nama aku rara\n"
     ]
    }
   ],
   "source": [
    "a = \"hai, nama aku rara\"\n",
    "print (a)"
   ]
  },
  {
   "cell_type": "code",
   "execution_count": 5,
   "id": "354867a9-2373-474f-895b-14ca8bb70aba",
   "metadata": {},
   "outputs": [],
   "source": [
    "b = \"\"\"Bootcamp Data Analyst.\n",
    "Kampus Merdeka X MyEduSolve.\n",
    "Kelas B.\"\"\""
   ]
  },
  {
   "cell_type": "code",
   "execution_count": 6,
   "id": "b7789de7-940f-4f7a-9640-bbd5bc558586",
   "metadata": {},
   "outputs": [
    {
     "name": "stdout",
     "output_type": "stream",
     "text": [
      "Bootcamp Data Analyst.\n",
      "Kampus Merdeka X MyEduSolve.\n",
      "Kelas B.\n"
     ]
    }
   ],
   "source": [
    "print(b)"
   ]
  },
  {
   "cell_type": "code",
   "execution_count": 10,
   "id": "f9ff168a-b5fe-4070-b23c-bae38de5e5e3",
   "metadata": {},
   "outputs": [],
   "source": [
    "c = \"Bootcamp Data Analyst. \\nKampus Merdeka X MyEduSolve. \\nKelas B.\""
   ]
  },
  {
   "cell_type": "code",
   "execution_count": 11,
   "id": "d5a27a87-467e-4d7e-96a0-4edd2271826b",
   "metadata": {},
   "outputs": [
    {
     "name": "stdout",
     "output_type": "stream",
     "text": [
      "Bootcamp Data Analyst. \n",
      "Kampus Merdeka X MyEduSolve. \n",
      "Kelas B.\n"
     ]
    }
   ],
   "source": [
    "print (c)"
   ]
  },
  {
   "cell_type": "markdown",
   "id": "08bbb0c0-812f-4032-8a33-01ff980e7daa",
   "metadata": {},
   "source": [
    "Boolean"
   ]
  },
  {
   "cell_type": "markdown",
   "id": "378c14e1-0f99-4d7a-911e-2f8b6a982ea6",
   "metadata": {},
   "source": [
    "Boolean in Python for data analysts is a fundamental data type representing truth values, either True or False. \n",
    "It's extensively used for logical operations, conditional statements, and filtering data. Boolean values are \n",
    "crucial for data analysis tasks such as filtering datasets based on conditions, performing logical operations on data, \n",
    "and controlling program flow. Understanding Boolean logic is essential for effective data manipulation and analysis in Python."
   ]
  },
  {
   "cell_type": "code",
   "execution_count": 2,
   "id": "07ceaa4d-c102-49e0-860b-794705ae1fbc",
   "metadata": {},
   "outputs": [
    {
     "data": {
      "text/plain": [
       "False"
      ]
     },
     "execution_count": 2,
     "metadata": {},
     "output_type": "execute_result"
    }
   ],
   "source": [
    "80 > 90"
   ]
  },
  {
   "cell_type": "code",
   "execution_count": 14,
   "id": "9bec62bb-3a10-40a0-863e-6ca9dd9226a0",
   "metadata": {},
   "outputs": [
    {
     "data": {
      "text/plain": [
       "False"
      ]
     },
     "execution_count": 14,
     "metadata": {},
     "output_type": "execute_result"
    }
   ],
   "source": [
    "80 == 90"
   ]
  },
  {
   "cell_type": "code",
   "execution_count": 15,
   "id": "424dff9a-e918-48c5-8b9a-210ac6505c87",
   "metadata": {},
   "outputs": [
    {
     "data": {
      "text/plain": [
       "True"
      ]
     },
     "execution_count": 15,
     "metadata": {},
     "output_type": "execute_result"
    }
   ],
   "source": [
    "80 <= 90"
   ]
  },
  {
   "cell_type": "code",
   "execution_count": 16,
   "id": "ee601103-9f68-4deb-8207-6eba878a056a",
   "metadata": {},
   "outputs": [
    {
     "data": {
      "text/plain": [
       "True"
      ]
     },
     "execution_count": 16,
     "metadata": {},
     "output_type": "execute_result"
    }
   ],
   "source": [
    "80 != 90"
   ]
  }
 ],
 "metadata": {
  "kernelspec": {
   "display_name": "Python 3 (ipykernel)",
   "language": "python",
   "name": "python3"
  },
  "language_info": {
   "codemirror_mode": {
    "name": "ipython",
    "version": 3
   },
   "file_extension": ".py",
   "mimetype": "text/x-python",
   "name": "python",
   "nbconvert_exporter": "python",
   "pygments_lexer": "ipython3",
   "version": "3.11.7"
  }
 },
 "nbformat": 4,
 "nbformat_minor": 5
}
