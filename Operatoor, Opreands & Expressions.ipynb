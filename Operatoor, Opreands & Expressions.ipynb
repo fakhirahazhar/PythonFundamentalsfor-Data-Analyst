{
 "cells": [
  {
   "cell_type": "raw",
   "id": "d800674c-095a-4957-ab21-7fd8452e75ca",
   "metadata": {},
   "source": [
    "Operator"
   ]
  },
  {
   "cell_type": "markdown",
   "id": "9e4d5149-b491-4952-b465-546d4e699ed6",
   "metadata": {},
   "source": [
    "Operators in Python for data analysis are symbols used to perform operations on data. They include arithmetic operators (+, -, *, /), comparison operators (==, !=, <, >), logical operators (and, or, not), assignment operators (=, +=, -=), and more. These operators are essential for manipulating and analyzing data, performing tasks such as mathematical calculations, filtering data, and controlling program flow. Understanding and utilizing these operators effectively is crucial for data analysts to perform various data-related tasks efficiently in Python."
   ]
  },
  {
   "cell_type": "markdown",
   "id": "32e4f675-2259-47c0-b7df-a12d56c7c15b",
   "metadata": {},
   "source": [
    "Operator \"+\""
   ]
  },
  {
   "cell_type": "code",
   "execution_count": 1,
   "id": "d9423cd6-c161-45dc-bc5e-7c6aaeb8804d",
   "metadata": {},
   "outputs": [
    {
     "data": {
      "text/plain": [
       "10"
      ]
     },
     "execution_count": 1,
     "metadata": {},
     "output_type": "execute_result"
    }
   ],
   "source": [
    "6 + 4"
   ]
  },
  {
   "cell_type": "code",
   "execution_count": 3,
   "id": "762acb85-a168-4c5f-9917-db86ceea3bdb",
   "metadata": {},
   "outputs": [
    {
     "data": {
      "text/plain": [
       "'Data'"
      ]
     },
     "execution_count": 3,
     "metadata": {},
     "output_type": "execute_result"
    }
   ],
   "source": [
    "'Da' + 'ta'"
   ]
  },
  {
   "cell_type": "code",
   "execution_count": null,
   "id": "46eb904e-95e0-4c6d-b0b4-a82a05565de1",
   "metadata": {},
   "outputs": [],
   "source": [
    "Operator \"-\""
   ]
  },
  {
   "cell_type": "code",
   "execution_count": 10,
   "id": "a578cd18-f2fe-4445-93b0-7d4481d72752",
   "metadata": {},
   "outputs": [
    {
     "data": {
      "text/plain": [
       "2"
      ]
     },
     "execution_count": 10,
     "metadata": {},
     "output_type": "execute_result"
    }
   ],
   "source": [
    "6-4"
   ]
  },
  {
   "cell_type": "code",
   "execution_count": 11,
   "id": "d48af4a3-c9c6-4063-9bed-6bb5cee32713",
   "metadata": {},
   "outputs": [
    {
     "ename": "TypeError",
     "evalue": "unsupported operand type(s) for -: 'str' and 'str'",
     "output_type": "error",
     "traceback": [
      "\u001b[1;31m---------------------------------------------------------------------------\u001b[0m",
      "\u001b[1;31mTypeError\u001b[0m                                 Traceback (most recent call last)",
      "Cell \u001b[1;32mIn[11], line 1\u001b[0m\n\u001b[1;32m----> 1\u001b[0m \u001b[38;5;124m'\u001b[39m\u001b[38;5;124mDa\u001b[39m\u001b[38;5;124m'\u001b[39m \u001b[38;5;241m-\u001b[39m \u001b[38;5;124m'\u001b[39m\u001b[38;5;124mta\u001b[39m\u001b[38;5;124m'\u001b[39m\n",
      "\u001b[1;31mTypeError\u001b[0m: unsupported operand type(s) for -: 'str' and 'str'"
     ]
    }
   ],
   "source": [
    "'Da' - 'ta'"
   ]
  },
  {
   "cell_type": "markdown",
   "id": "0255dcf7-f5b0-4c06-ad17-058de1920a70",
   "metadata": {},
   "source": [
    "In Python, the subtraction operator (-) can operate on various numeric data types, including integers, floating-point numbers, and complex numbers. It is not restricted to integers only. This operator is used to subtract one numeric value from another. For example:"
   ]
  },
  {
   "cell_type": "markdown",
   "id": "13ff0e89-4c9c-484b-85d6-dfe29c432fa4",
   "metadata": {},
   "source": [
    "Operator \"*\""
   ]
  },
  {
   "cell_type": "code",
   "execution_count": 9,
   "id": "bb02b0e0-1ab5-4202-841a-89e588a276d5",
   "metadata": {
    "scrolled": true
   },
   "outputs": [
    {
     "data": {
      "text/plain": [
       "20"
      ]
     },
     "execution_count": 9,
     "metadata": {},
     "output_type": "execute_result"
    }
   ],
   "source": [
    "4*5"
   ]
  },
  {
   "cell_type": "markdown",
   "id": "3677351c-5452-44cb-89ce-675fbd1c991f",
   "metadata": {},
   "source": [
    "Operator (**)"
   ]
  },
  {
   "cell_type": "code",
   "execution_count": 5,
   "id": "c53c66fc-5a1a-4468-9d01-c8aab2f9ccad",
   "metadata": {},
   "outputs": [
    {
     "data": {
      "text/plain": [
       "'haihaihai'"
      ]
     },
     "execution_count": 5,
     "metadata": {},
     "output_type": "execute_result"
    }
   ],
   "source": [
    "\"hai\"*3"
   ]
  },
  {
   "cell_type": "code",
   "execution_count": 6,
   "id": "ef00ea80-0a66-41ad-805d-f44927ff4b6d",
   "metadata": {},
   "outputs": [
    {
     "data": {
      "text/plain": [
       "8"
      ]
     },
     "execution_count": 6,
     "metadata": {},
     "output_type": "execute_result"
    }
   ],
   "source": [
    "2**3"
   ]
  },
  {
   "cell_type": "markdown",
   "id": "29ce3c9d-a4b9-4182-b659-18bc0a453aa7",
   "metadata": {},
   "source": [
    "TASK 4 //Bikin Operator pyhthon ( +, -, *, **)//"
   ]
  },
  {
   "cell_type": "markdown",
   "id": "7e2c66f7-9e3c-4249-8c25-9ae412bd50dd",
   "metadata": {},
   "source": [
    "//Operator +"
   ]
  },
  {
   "cell_type": "code",
   "execution_count": 14,
   "id": "188feecd-811b-4010-b168-b74d62c8cd76",
   "metadata": {},
   "outputs": [
    {
     "data": {
      "text/plain": [
       "115.5"
      ]
     },
     "execution_count": 14,
     "metadata": {},
     "output_type": "execute_result"
    }
   ],
   "source": [
    "57.5 + 58"
   ]
  },
  {
   "cell_type": "markdown",
   "id": "57aec134-5316-4776-8c83-cfea0f329043",
   "metadata": {},
   "source": [
    "//Operator -"
   ]
  },
  {
   "cell_type": "code",
   "execution_count": 15,
   "id": "87d50f2f-964c-48d4-844f-9e71f0265570",
   "metadata": {},
   "outputs": [
    {
     "data": {
      "text/plain": [
       "40"
      ]
     },
     "execution_count": 15,
     "metadata": {},
     "output_type": "execute_result"
    }
   ],
   "source": [
    "90 - 50"
   ]
  },
  {
   "cell_type": "code",
   "execution_count": null,
   "id": "8daddb76-8f86-4dc9-8812-68d64d678d58",
   "metadata": {},
   "outputs": [],
   "source": [
    "//Operator *"
   ]
  },
  {
   "cell_type": "code",
   "execution_count": 17,
   "id": "42d9f367-f764-4aeb-a77a-f462255f1886",
   "metadata": {},
   "outputs": [
    {
     "data": {
      "text/plain": [
       "2500"
      ]
     },
     "execution_count": 17,
     "metadata": {},
     "output_type": "execute_result"
    }
   ],
   "source": [
    "500 * 5"
   ]
  },
  {
   "cell_type": "markdown",
   "id": "947e5a87-8377-42ae-9852-86ca79212181",
   "metadata": {},
   "source": [
    "//Operator **"
   ]
  },
  {
   "cell_type": "code",
   "execution_count": 18,
   "id": "979e9848-1b8e-432b-a9d0-1820430f84f8",
   "metadata": {},
   "outputs": [
    {
     "data": {
      "text/plain": [
       "12960000"
      ]
     },
     "execution_count": 18,
     "metadata": {},
     "output_type": "execute_result"
    }
   ],
   "source": [
    "60**4"
   ]
  },
  {
   "cell_type": "code",
   "execution_count": null,
   "id": "d5837677-0294-47e1-b3e6-75681b904885",
   "metadata": {},
   "outputs": [],
   "source": [
    "Operator \"/\""
   ]
  },
  {
   "cell_type": "code",
   "execution_count": 19,
   "id": "0c050bbe-56e6-4676-95fa-57db5ce24695",
   "metadata": {},
   "outputs": [
    {
     "data": {
      "text/plain": [
       "20.0"
      ]
     },
     "execution_count": 19,
     "metadata": {},
     "output_type": "execute_result"
    }
   ],
   "source": [
    "100/5"
   ]
  },
  {
   "cell_type": "code",
   "execution_count": null,
   "id": "095cc787-b543-4e2b-a68f-58e2fbba0ba4",
   "metadata": {},
   "outputs": [],
   "source": [
    "Operator Modulo \"%\""
   ]
  },
  {
   "cell_type": "code",
   "execution_count": 22,
   "id": "e6b9c440-6d68-431b-aab7-11f05639323d",
   "metadata": {},
   "outputs": [
    {
     "data": {
      "text/plain": [
       "1"
      ]
     },
     "execution_count": 22,
     "metadata": {},
     "output_type": "execute_result"
    }
   ],
   "source": [
    "51%5"
   ]
  },
  {
   "cell_type": "code",
   "execution_count": 25,
   "id": "f66bb68f-f282-436e-8ceb-1fca715a9ffc",
   "metadata": {},
   "outputs": [
    {
     "data": {
      "text/plain": [
       "1.3000000000000336"
      ]
     },
     "execution_count": 25,
     "metadata": {},
     "output_type": "execute_result"
    }
   ],
   "source": [
    "1003%5.3"
   ]
  }
 ],
 "metadata": {
  "kernelspec": {
   "display_name": "Python 3 (ipykernel)",
   "language": "python",
   "name": "python3"
  },
  "language_info": {
   "codemirror_mode": {
    "name": "ipython",
    "version": 3
   },
   "file_extension": ".py",
   "mimetype": "text/x-python",
   "name": "python",
   "nbconvert_exporter": "python",
   "pygments_lexer": "ipython3",
   "version": "3.11.7"
  }
 },
 "nbformat": 4,
 "nbformat_minor": 5
}
