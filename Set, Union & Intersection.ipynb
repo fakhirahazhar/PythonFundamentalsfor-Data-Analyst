{
 "cells": [
  {
   "cell_type": "markdown",
   "id": "69159a4d-353f-41ba-b5c4-a47a28c9c338",
   "metadata": {},
   "source": [
    "Set"
   ]
  },
  {
   "cell_type": "markdown",
   "id": "ad842c73-f230-4088-bbdf-fe18384733f8",
   "metadata": {},
   "source": [
    "In Python, a set is a built-in data type used to store unique elements without any specific order. Sets are particularly useful for data analysts as they can quickly identify unique values within a dataset, remove duplicates, and perform set operations like union, intersection, and difference. Sets are defined using curly braces `{}`, and elements are separated by commas. With their ability to efficiently handle unique elements, sets are valuable tools for data analysis tasks such as data cleaning, data deduplication, and performing set-based operations on datasets."
   ]
  },
  {
   "cell_type": "code",
   "execution_count": 1,
   "id": "bffd62b8-4a1c-4279-89a0-63d5add93709",
   "metadata": {},
   "outputs": [],
   "source": [
    "a ={3,3,3,3,4,4,4,5,5,5}"
   ]
  },
  {
   "cell_type": "code",
   "execution_count": 3,
   "id": "e59a08f5-f749-40ec-8176-6324585d2710",
   "metadata": {},
   "outputs": [
    {
     "name": "stdout",
     "output_type": "stream",
     "text": [
      "{3, 4, 5}\n"
     ]
    }
   ],
   "source": [
    "print(a)"
   ]
  },
  {
   "cell_type": "markdown",
   "id": "8d1329ce-2999-4ee9-a914-26d073c6f5ea",
   "metadata": {},
   "source": [
    "Union"
   ]
  },
  {
   "cell_type": "code",
   "execution_count": 7,
   "id": "0c954162-a73a-4481-935a-78bd81bd5ff7",
   "metadata": {},
   "outputs": [],
   "source": [
    "a = {1,2,3}"
   ]
  },
  {
   "cell_type": "code",
   "execution_count": 8,
   "id": "6a0a558f-8773-40fc-b919-7e3394b94674",
   "metadata": {},
   "outputs": [
    {
     "name": "stdout",
     "output_type": "stream",
     "text": [
      "{1, 2, 3}\n"
     ]
    }
   ],
   "source": [
    "print(a)"
   ]
  },
  {
   "cell_type": "code",
   "execution_count": 9,
   "id": "606d99d4-c4f8-41f0-8c94-fe627f5227fa",
   "metadata": {},
   "outputs": [],
   "source": [
    "b = {2,3,4,5}"
   ]
  },
  {
   "cell_type": "code",
   "execution_count": 10,
   "id": "f9916d83-34aa-4498-880e-a796d61f84ee",
   "metadata": {},
   "outputs": [
    {
     "name": "stdout",
     "output_type": "stream",
     "text": [
      "{2, 3, 4, 5}\n"
     ]
    }
   ],
   "source": [
    "print(b)"
   ]
  },
  {
   "cell_type": "code",
   "execution_count": 11,
   "id": "65957a8f-be4b-4d37-a7a2-97e752dddc23",
   "metadata": {},
   "outputs": [
    {
     "data": {
      "text/plain": [
       "{1, 2, 3, 4, 5}"
      ]
     },
     "execution_count": 11,
     "metadata": {},
     "output_type": "execute_result"
    }
   ],
   "source": [
    "a.union(b)"
   ]
  },
  {
   "cell_type": "markdown",
   "id": "71c24e1b-6edf-4345-8f87-6e6ea8e9b63e",
   "metadata": {},
   "source": [
    "Intersection"
   ]
  },
  {
   "cell_type": "code",
   "execution_count": 12,
   "id": "9d9501cc-71b7-4853-a6f5-a1d6c8d231ac",
   "metadata": {},
   "outputs": [
    {
     "data": {
      "text/plain": [
       "{2, 3}"
      ]
     },
     "execution_count": 12,
     "metadata": {},
     "output_type": "execute_result"
    }
   ],
   "source": [
    "a.intersection(b)"
   ]
  },
  {
   "cell_type": "markdown",
   "id": "cab7e31a-82ee-494e-88d2-202b7c5b1f3f",
   "metadata": {},
   "source": [
    "TASK 2 -- Bikin Set, Union, Intersection"
   ]
  },
  {
   "cell_type": "code",
   "execution_count": null,
   "id": "bddf562d-b52d-491d-8c84-6798b3ae1463",
   "metadata": {},
   "outputs": [],
   "source": [
    "b = {1,2.5, \"Three\", 20, 40}\n",
    "print(b)"
   ]
  },
  {
   "cell_type": "code",
   "execution_count": null,
   "id": "45717e05-6c0e-4e72-80d6-e7cb9c696aa8",
   "metadata": {},
   "outputs": [],
   "source": [
    "c = {10, 15, 100, 35, 40}\n",
    "print(c)"
   ]
  },
  {
   "cell_type": "code",
   "execution_count": null,
   "id": "e2ba8b9e-20c0-4c23-9a4b-0d3ef97673d0",
   "metadata": {},
   "outputs": [],
   "source": [
    "d = {200, 300, 100, 35}\n",
    "print(d)"
   ]
  },
  {
   "cell_type": "code",
   "execution_count": null,
   "id": "c1b3a5cf-5224-4ac5-b215-572ff125e95d",
   "metadata": {},
   "outputs": [],
   "source": [
    "c.union(d)"
   ]
  },
  {
   "cell_type": "code",
   "execution_count": null,
   "id": "627bb532-fb65-4d19-b9a2-fd924b9e7eb3",
   "metadata": {},
   "outputs": [],
   "source": [
    "c.intersection(d)"
   ]
  }
 ],
 "metadata": {
  "kernelspec": {
   "display_name": "Python 3 (ipykernel)",
   "language": "python",
   "name": "python3"
  },
  "language_info": {
   "codemirror_mode": {
    "name": "ipython",
    "version": 3
   },
   "file_extension": ".py",
   "mimetype": "text/x-python",
   "name": "python",
   "nbconvert_exporter": "python",
   "pygments_lexer": "ipython3",
   "version": "3.11.7"
  }
 },
 "nbformat": 4,
 "nbformat_minor": 5
}
