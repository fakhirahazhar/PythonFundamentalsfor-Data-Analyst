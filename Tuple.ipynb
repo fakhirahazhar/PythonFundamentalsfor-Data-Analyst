{
 "cells": [
  {
   "cell_type": "markdown",
   "id": "d99aa30d-fc8f-4b51-8be6-7484a43ed789",
   "metadata": {},
   "source": [
    "Tuple"
   ]
  },
  {
   "cell_type": "markdown",
   "id": "438edf79-70bb-4e57-83cf-3eb911e622f5",
   "metadata": {},
   "source": [
    "Tuple in Python is an immutable sequence enclosed in parentheses. It's used in data analysis to hold fixed collections of heterogeneous data, like coordinates or record-like structures. Unlike lists, tuples can't be modified after creation, making them efficient for certain tasks like dictionary keys."
   ]
  },
  {
   "cell_type": "code",
   "execution_count": 1,
   "id": "39882a93-4c89-4dd4-9bbb-e58ddcd64ba1",
   "metadata": {},
   "outputs": [
    {
     "name": "stdout",
     "output_type": "stream",
     "text": [
      "[8, 9]\n"
     ]
    }
   ],
   "source": [
    "A = [7, 8, 9, \"halo\"]\n",
    "B = [8, 9]\n",
    "print(B)"
   ]
  },
  {
   "cell_type": "code",
   "execution_count": 2,
   "id": "27f75871-1eea-49f4-a81b-4ee6403070ef",
   "metadata": {},
   "outputs": [
    {
     "name": "stdout",
     "output_type": "stream",
     "text": [
      "(2, 'buku', 3.5)\n"
     ]
    }
   ],
   "source": [
    "a = (2, \"buku\", 3.5)\n",
    "print(a)"
   ]
  },
  {
   "cell_type": "code",
   "execution_count": 3,
   "id": "74fc3983-569d-400e-b5bc-2c92ea6e3deb",
   "metadata": {},
   "outputs": [
    {
     "name": "stdout",
     "output_type": "stream",
     "text": [
      "buku\n"
     ]
    }
   ],
   "source": [
    "print(a[1])"
   ]
  },
  {
   "cell_type": "code",
   "execution_count": 4,
   "id": "95a03c5e-d136-40ba-8e89-af7fa9c3a5ee",
   "metadata": {},
   "outputs": [
    {
     "name": "stdout",
     "output_type": "stream",
     "text": [
      "(2, 'buku')\n"
     ]
    }
   ],
   "source": [
    "print(a[0:2])"
   ]
  }
 ],
 "metadata": {
  "kernelspec": {
   "display_name": "Python 3 (ipykernel)",
   "language": "python",
   "name": "python3"
  },
  "language_info": {
   "codemirror_mode": {
    "name": "ipython",
    "version": 3
   },
   "file_extension": ".py",
   "mimetype": "text/x-python",
   "name": "python",
   "nbconvert_exporter": "python",
   "pygments_lexer": "ipython3",
   "version": "3.11.7"
  }
 },
 "nbformat": 4,
 "nbformat_minor": 5
}
